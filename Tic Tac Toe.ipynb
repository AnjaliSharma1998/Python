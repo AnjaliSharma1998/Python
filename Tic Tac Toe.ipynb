{
 "cells": [
  {
   "cell_type": "code",
   "execution_count": 1,
   "metadata": {},
   "outputs": [],
   "source": [
    "#Step 1: Write a function that can print out a board. Set up your board as a list, where each index 1-9 corresponds with a number on a number pad, so you get a 3 by 3 board representation.\n",
    "\n",
    "from IPython.display import clear_output\n",
    "def display_board(board):\n",
    "    clear_output()\n",
    "    print(board[7]+'|'+board[8]+'|'+board[9])\n",
    "    print(board[4]+'|'+board[5]+'|'+board[6])\n",
    "    print(board[1]+'|'+board[2]+'|'+board[3])"
   ]
  },
  {
   "cell_type": "code",
   "execution_count": 2,
   "metadata": {},
   "outputs": [
    {
     "name": "stdout",
     "output_type": "stream",
     "text": [
      "X|O|X\n",
      "O|X|O\n",
      "X|O|X\n"
     ]
    }
   ],
   "source": [
    "# run your function on a test version of the board list, and make adjustments as necessary\n",
    "\n",
    "test_board = ['#','X','O','X','O','X','O','X','O','X']\n",
    "display_board(test_board)\n",
    "display_board(test_board)"
   ]
  },
  {
   "cell_type": "code",
   "execution_count": 3,
   "metadata": {},
   "outputs": [],
   "source": [
    "# Step 2: Write a function that can take in a player input and assign their marker as 'X' or 'O'. Think about using while loops to continually ask until you get a correct answer.\n",
    "\n",
    "def player_input():\n",
    "    \n",
    "    \n",
    "    '''\n",
    "    OUTPUT = (Player 1 marker, Player 2 marker)\n",
    "    '''\n",
    "    \n",
    "    marker = ''\n",
    "    \n",
    "    while marker != 'X' and marker != 'O':\n",
    "        marker = input ('Player1: Choose X or O: ').upper()\n",
    "        \n",
    "    if marker =='X':\n",
    "        return('X', 'O')\n",
    "    else:\n",
    "        return('O','X')"
   ]
  },
  {
   "cell_type": "code",
   "execution_count": 4,
   "metadata": {},
   "outputs": [
    {
     "name": "stdout",
     "output_type": "stream",
     "text": [
      "Player1: Choose X or O: X\n"
     ]
    }
   ],
   "source": [
    "# TEST Step 2: run the function to make sure it returns the desired output.\n",
    "\n",
    "player1_marker , player2_marker =player_input() \n"
   ]
  },
  {
   "cell_type": "code",
   "execution_count": 5,
   "metadata": {},
   "outputs": [
    {
     "data": {
      "text/plain": [
       "'O'"
      ]
     },
     "execution_count": 5,
     "metadata": {},
     "output_type": "execute_result"
    }
   ],
   "source": [
    "player2_marker"
   ]
  },
  {
   "cell_type": "code",
   "execution_count": 6,
   "metadata": {},
   "outputs": [],
   "source": [
    "# Step 3: Write a function that takes in the board list object, a marker ('X' or 'O'), and a desired position (number 1-9) and assigns it to the board.\n",
    "\n",
    "\n",
    "def place_marker(board, marker, position):\n",
    "    board[position] = marker"
   ]
  },
  {
   "cell_type": "code",
   "execution_count": 7,
   "metadata": {},
   "outputs": [
    {
     "data": {
      "text/plain": [
       "['#', 'X', 'O', 'X', 'O', 'X', 'O', 'X', 'O', 'X']"
      ]
     },
     "execution_count": 7,
     "metadata": {},
     "output_type": "execute_result"
    }
   ],
   "source": [
    "# TEST Step 3: run the place marker function using test parameters and display the modified board\n",
    "\n",
    "\n",
    "test_board"
   ]
  },
  {
   "cell_type": "code",
   "execution_count": 8,
   "metadata": {},
   "outputs": [
    {
     "name": "stdout",
     "output_type": "stream",
     "text": [
      "X|$|X\n",
      "O|X|O\n",
      "X|O|X\n"
     ]
    }
   ],
   "source": [
    "place_marker(test_board, '$' ,8)\n",
    "display_board(test_board)"
   ]
  },
  {
   "cell_type": "code",
   "execution_count": 9,
   "metadata": {},
   "outputs": [],
   "source": [
    "# Step 4: Write a function that takes in a board and a mark (X or O) and then checks to see if that mark has won.\n",
    "\n",
    "\n",
    "def win_check(board, mark):\n",
    "    \n",
    "    return ((board[7] == mark and board[8] == mark and board[9] == mark) or # across the top\n",
    "    (board[4] == mark and board[5] == mark and board[6] == mark) or # across the middle\n",
    "    (board[1] == mark and board[2] == mark and board[3] == mark) or # across the bottom\n",
    "    (board[7] == mark and board[4] == mark and board[1] == mark) or # down the middle\n",
    "    (board[8] == mark and board[5] == mark and board[2] == mark) or # down the middle\n",
    "    (board[9] == mark and board[6] == mark and board[3] == mark) or # down the right side\n",
    "    (board[7] == mark and board[5] == mark and board[3] == mark) or # diagonal\n",
    "    (board[9] == mark and board[5] == mark and board[1] == mark)) # diagonal"
   ]
  },
  {
   "cell_type": "code",
   "execution_count": 10,
   "metadata": {},
   "outputs": [
    {
     "name": "stdout",
     "output_type": "stream",
     "text": [
      "X|$|X\n",
      "O|X|O\n",
      "X|O|X\n"
     ]
    },
    {
     "data": {
      "text/plain": [
       "True"
      ]
     },
     "execution_count": 10,
     "metadata": {},
     "output_type": "execute_result"
    }
   ],
   "source": [
    "# TEST Step 4: run the win_check function against our test_board - it should return True\n",
    "\n",
    "display_board(test_board)\n",
    "win_check(test_board, 'X')"
   ]
  },
  {
   "cell_type": "code",
   "execution_count": 11,
   "metadata": {},
   "outputs": [],
   "source": [
    "# Step 5: Write a function that uses the random module to randomly decide which player goes first. You may want to lookup random.randint() Return a string of which player went first.\n",
    "\n",
    "\n",
    "import random\n",
    "\n",
    "def choose_first():\n",
    "    flip = random.randint(0,1)\n",
    "    \n",
    "    if flip ==0:\n",
    "        return 'Player 1'\n",
    "    else:\n",
    "        return 'Player 2'\n"
   ]
  },
  {
   "cell_type": "code",
   "execution_count": 12,
   "metadata": {},
   "outputs": [],
   "source": [
    "# Step 6: Write a function that returns a boolean indicating whether a space on the board is freely available.\n",
    "\n",
    "def space_check(board, position):\n",
    "    return board[position] == ' '"
   ]
  },
  {
   "cell_type": "code",
   "execution_count": 13,
   "metadata": {},
   "outputs": [],
   "source": [
    "# Step 7: Write a function that checks if the board is full and returns a boolean value. True if full, False otherwise.\n",
    "\n",
    "\n",
    "def full_board_check(board):\n",
    "    \n",
    "    for i in range(1,10):\n",
    "        if space_check(board,i):\n",
    "            return False\n",
    "        \n",
    "    # BOARD IS FULL IS WE RETURN TRUE\n",
    "    return True"
   ]
  },
  {
   "cell_type": "code",
   "execution_count": 14,
   "metadata": {},
   "outputs": [],
   "source": [
    "# Step 8: Write a function that asks for a player's next position (as a number 1-9) and then uses the function from step 6 to check if its a free position. If it is, then return the position for later use.\n",
    "\n",
    "\n",
    "def player_choice(board):\n",
    "    \n",
    "    position = 0\n",
    "    \n",
    "    while position not in[1,2,3,4,5,6,7,8,9] or not space_check(board,position):\n",
    "        position = int(input('choose a position: (1-9)'))\n",
    "        \n",
    "    return position    "
   ]
  },
  {
   "cell_type": "code",
   "execution_count": 15,
   "metadata": {},
   "outputs": [],
   "source": [
    "#  Step 9: Write a function that asks the player if they want to play again and returns a boolean True if they do want to play again.\n",
    "\n",
    "\n",
    "def replay():\n",
    "    choice = input(\"Play again? Enter Yes or No\")\n",
    "    \n",
    "    return choice == 'Yes'"
   ]
  },
  {
   "cell_type": "code",
   "execution_count": null,
   "metadata": {},
   "outputs": [
    {
     "name": "stdout",
     "output_type": "stream",
     "text": [
      "O| |X\n",
      "O|O| \n",
      "O|X|X\n",
      "PLAYER 2 HAS WON!!\n"
     ]
    }
   ],
   "source": [
    "# Step 10: Use while loops and the functions you've made to run the game!\n",
    "\n",
    "\n",
    "#WHILE LOOP TO KEEP RUNNING THE GAME\n",
    "print('Welcome to Tic TAC TOE')\n",
    "\n",
    "while True:\n",
    "    \n",
    "    #PLAY THE GAME\n",
    "     \n",
    "        ## SET EVERYTHING UP (BOARD, WHOS FIRST, CHOOSE MARKERS X,O)\n",
    "        the_board = [' ']*10\n",
    "        player1_marker,player2_marker = player_input()\n",
    "        \n",
    "        turn = choose_first()\n",
    "        print(turn + ' will go first')\n",
    "        \n",
    "        play_game = input('Ready to play? y or n?')\n",
    "        \n",
    "        if play_game == 'y':\n",
    "            game_on = True\n",
    "        else :\n",
    "            game_on = False\n",
    "        \n",
    "        ## GAME PLAY\n",
    "        \n",
    "        while game_on:\n",
    "            \n",
    "            if turn == 'Player 1':\n",
    "                \n",
    "                #Show the board\n",
    "                display_board(the_board)\n",
    "                # Choose a position\n",
    "                position = player_choice(the_board)\n",
    "                #Place the marker on the position\n",
    "                place_marker(the_board,player1_marker,position)\n",
    "                \n",
    "                # Check if they won\n",
    "                if win_check(the_board,player1_marker):\n",
    "                    display_board(the_board)\n",
    "                    print('PLAYER 1 HAS WON!!')\n",
    "                    game_on = False\n",
    "                else:\n",
    "                    if full_board_check(the_board):\n",
    "                        display_board(the_board)\n",
    "                        print(\"TIE GAME!\")\n",
    "                        game_on = False\n",
    "                    else:\n",
    "                        turn = 'Player 2'\n",
    "                    \n",
    "                    \n",
    "            else:\n",
    "                 #Show the board\n",
    "                display_board(the_board)\n",
    "                # Choose a position\n",
    "                position = player_choice(the_board)\n",
    "                #Place the marker on the position\n",
    "                place_marker(the_board,player2_marker,position)\n",
    "                \n",
    "                # Check if they won\n",
    "                if win_check(the_board,player2_marker):\n",
    "                    display_board(the_board)\n",
    "                    print('PLAYER 2 HAS WON!!')\n",
    "                    game_on = False\n",
    "                else:\n",
    "                    if full_board_check(the_board):\n",
    "                        display_board(the_board)\n",
    "                        print(\"TIE GAME!\")\n",
    "                        game_on = False\n",
    "                    else:\n",
    "                        turn = 'Player 1'\n",
    "                    \n",
    "                                \n",
    "                \n",
    "                \n",
    "                \n",
    "                \n",
    "                \n",
    "                \n",
    "         \n",
    "    \n",
    "    \n",
    "        if not replay():\n",
    "        \n",
    "            break\n",
    "\n",
    "\n",
    "#BREAK OUT OF THE WHILE LOOP ON replay()\n",
    "\n"
   ]
  },
  {
   "cell_type": "code",
   "execution_count": null,
   "metadata": {},
   "outputs": [],
   "source": []
  },
  {
   "cell_type": "code",
   "execution_count": null,
   "metadata": {},
   "outputs": [],
   "source": []
  },
  {
   "cell_type": "code",
   "execution_count": null,
   "metadata": {},
   "outputs": [],
   "source": []
  }
 ],
 "metadata": {
  "kernelspec": {
   "display_name": "Python 3",
   "language": "python",
   "name": "python3"
  },
  "language_info": {
   "codemirror_mode": {
    "name": "ipython",
    "version": 3
   },
   "file_extension": ".py",
   "mimetype": "text/x-python",
   "name": "python",
   "nbconvert_exporter": "python",
   "pygments_lexer": "ipython3",
   "version": "3.7.6"
  }
 },
 "nbformat": 4,
 "nbformat_minor": 4
}
